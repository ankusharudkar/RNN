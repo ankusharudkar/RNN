{
 "cells": [
  {
   "cell_type": "markdown",
   "id": "b819d918",
   "metadata": {},
   "source": [
    "Adapted from [here](https://github.com/szrlee/Stock-Time-Series-Analysis/blob/master/data_collection.ipynb)"
   ]
  },
  {
   "cell_type": "code",
   "execution_count": 4,
   "id": "d9ac32fe",
   "metadata": {},
   "outputs": [],
   "source": [
    "import pandas_datareader as pdr\n",
    "import datetime"
   ]
  },
  {
   "cell_type": "markdown",
   "id": "543c931e",
   "metadata": {},
   "source": [
    "Defining the start and end of collecting dates"
   ]
  },
  {
   "cell_type": "code",
   "execution_count": 6,
   "id": "a7550f0e",
   "metadata": {},
   "outputs": [],
   "source": [
    "# starting date for stock price\n",
    "start_date = datetime.datetime(2006, 1, 1)\n",
    "\n",
    "# last date of stock prices\n",
    "end_date = datetime.datetime(2021, 1, 1)\n",
    "\n",
    "# string dates for filenames\n",
    "start_date_str = str(start_date.date())\n",
    "end_date_str = str(end_date.date())"
   ]
  },
  {
   "cell_type": "code",
   "execution_count": 12,
   "id": "84553b67",
   "metadata": {},
   "outputs": [],
   "source": [
    "import os\n",
    "\n",
    "# the directory to store stock prices\n",
    "os.mkdir(\"./archive\")"
   ]
  },
  {
   "cell_type": "markdown",
   "id": "cb03701d",
   "metadata": {},
   "source": [
    "Defining the stocks we are interested in"
   ]
  },
  {
   "cell_type": "code",
   "execution_count": 13,
   "id": "12ab30c3",
   "metadata": {},
   "outputs": [],
   "source": [
    "stocks = [\"AAPL\", \"GOOGL\", \"CSCO\", \"IBM\", \"MSFT\", \"AMZN\"]"
   ]
  },
  {
   "cell_type": "code",
   "execution_count": 14,
   "id": "3dedacf7",
   "metadata": {},
   "outputs": [
    {
     "name": "stdout",
     "output_type": "stream",
     "text": [
      "data/AMZN_2006-01-01_to_2021-01-01.csv\n",
      "(3776, 6)\n"
     ]
    }
   ],
   "source": [
    "for ticker in stocks:\n",
    "    file_name = 'archive/' + ticker + '_' + start_date_str + '_to_' + end_date_str + '.csv'\n",
    "    print(file_name)\n",
    "    data = pdr.DataReader(ticker, 'yahoo', start_date, end_date)\n",
    "    print(data.shape)\n",
    "    data.to_csv(file_name)"
   ]
  }
 ],
 "metadata": {
  "kernelspec": {
   "display_name": "Python 3 (ipykernel)",
   "language": "python",
   "name": "python3"
  },
  "language_info": {
   "codemirror_mode": {
    "name": "ipython",
    "version": 3
   },
   "file_extension": ".py",
   "mimetype": "text/x-python",
   "name": "python",
   "nbconvert_exporter": "python",
   "pygments_lexer": "ipython3",
   "version": "3.9.12"
  }
 },
 "nbformat": 4,
 "nbformat_minor": 5
}
